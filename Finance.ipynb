{
 "cells": [
  {
   "cell_type": "markdown",
   "metadata": {},
   "source": [
    "# pré-processamento"
   ]
  },
  {
   "cell_type": "code",
   "execution_count": 58,
   "metadata": {},
   "outputs": [],
   "source": [
    "import pandas as pd\n",
    "import tabula"
   ]
  },
  {
   "cell_type": "code",
   "execution_count": 59,
   "metadata": {},
   "outputs": [],
   "source": [
    "# df = pd.read_csv(\"C:/Users/sonia/Downloads/Extrato conta - 012024.csv\", encoding='ISO-8859-1')\n",
    "df = pd.read_csv(\"C:/Users/sonia/Downloads/Extrato conta - 022024.csv\", encoding='ISO-8859-1')\n"
   ]
  },
  {
   "cell_type": "code",
   "execution_count": 60,
   "metadata": {},
   "outputs": [],
   "source": [
    "dfs = tabula.read_pdf('c:/Users/sonia/Downloads/DOC-20240211-WA0002_240211_165932.pdf',pages=2)"
   ]
  },
  {
   "cell_type": "code",
   "execution_count": 61,
   "metadata": {},
   "outputs": [],
   "source": [
    "dfs = dfs[0]"
   ]
  },
  {
   "cell_type": "code",
   "execution_count": 62,
   "metadata": {},
   "outputs": [],
   "source": [
    "# Supondo que dfs é o seu DataFrame\n",
    "# Substitua 'dfs' pelo nome real do seu DataFrame\n",
    "\n",
    "# Selecione as colunas que você quer unir\n",
    "colunas_1 = ['Unnamed: 0', '1TOMAZ S SOUZA CRUZCartão N. 6194', 'Unnamed: 2', 'Unnamed: 3', 'Unnamed: 4']\n",
    "colunas_2 = ['10/12', 'SUPERMERCADOS ANGELONI FLORIANOPOLIS', 'BR', 'R$', '57,04']\n",
    "\n",
    "# Selecione as linhas que você quer unir\n",
    "linhas_1 = dfs[colunas_1]\n",
    "linhas_2 = dfs[colunas_2]\n",
    "\n",
    "# Adicione um novo índice a partir da segunda linha\n",
    "linhas_2.index += 1\n",
    "\n",
    "# Renomeie as colunas para que tenham o mesmo nome\n",
    "linhas_2.columns = colunas_1\n",
    "\n",
    "# Use a função concat para unir as linhas\n",
    "resultado = pd.concat([linhas_1, linhas_2])\n",
    "\n",
    "# Exemplo de impressão do novo DataFrame\n",
    "#resultado"
   ]
  },
  {
   "cell_type": "code",
   "execution_count": 63,
   "metadata": {},
   "outputs": [],
   "source": [
    "resultado.rename(columns={'Unnamed: 0':'Data', '1TOMAZ S SOUZA CRUZCartão N. 6194':'Descrição', 'Unnamed: 2':'ID', 'Unnamed: 3':'Moeda', 'Unnamed: 4':'Valor'}, inplace=True)\n"
   ]
  },
  {
   "cell_type": "code",
   "execution_count": 64,
   "metadata": {},
   "outputs": [],
   "source": [
    "resultado['Valor'] = resultado['Valor'].str.replace('.', '').str.replace(',', '.').astype(float)\n"
   ]
  },
  {
   "cell_type": "code",
   "execution_count": 65,
   "metadata": {},
   "outputs": [],
   "source": [
    "df['Valor'] = df['Valor'].str.replace('.', '').str.replace(',', '.').astype(float)"
   ]
  },
  {
   "cell_type": "markdown",
   "metadata": {},
   "source": [
    "# Dataframes"
   ]
  },
  {
   "cell_type": "code",
   "execution_count": 66,
   "metadata": {},
   "outputs": [],
   "source": [
    "receitas = df[df['Tipo Lançamento']=='Entrada']\n",
    "receitas = receitas[['Data','Lançamento','Detalhes','Valor']]"
   ]
  },
  {
   "cell_type": "code",
   "execution_count": 67,
   "metadata": {},
   "outputs": [],
   "source": [
    "gastos = df[df['Tipo Lançamento']=='Saída']\n",
    "gastos = gastos[['Data','Lançamento','Detalhes','Valor']]"
   ]
  },
  {
   "cell_type": "code",
   "execution_count": 68,
   "metadata": {},
   "outputs": [],
   "source": [
    "gastos_creditos = resultado[(resultado['Valor']>0)&(resultado['Data'].notnull())]"
   ]
  },
  {
   "cell_type": "code",
   "execution_count": 69,
   "metadata": {},
   "outputs": [],
   "source": [
    "# Crie uma máscara booleana usando str.contains\n",
    "mascara_pagamento = gastos['Lançamento'].str.contains('pagamento', case=False, na=False)\n",
    "mascara_pgto = gastos['Lançamento'].str.contains('pagto', case=False, na=False)\n",
    "mascara_faxina = gastos['Detalhes'].str.contains('Rita',case=False,na=False)\n",
    "mascara_animais = gastos['Detalhes'].str.contains('Animais',case=False,na=False)\n",
    "\n",
    "\n",
    "# Aplique a máscara ao DataFrame original\n",
    "gastos_fixos = gastos[mascara_pagamento|mascara_pgto|mascara_faxina|mascara_animais]"
   ]
  },
  {
   "cell_type": "code",
   "execution_count": 70,
   "metadata": {},
   "outputs": [],
   "source": [
    "qualidade_vida = gastos[~mascara_pagamento&~mascara_pgto&~mascara_faxina&~mascara_animais]"
   ]
  },
  {
   "cell_type": "code",
   "execution_count": 71,
   "metadata": {},
   "outputs": [],
   "source": [
    "receita_total = receitas['Valor'].sum()\n",
    "gastos_qualidade_vida = -qualidade_vida['Valor'].sum()\n",
    "gastos_gastos_fixos = -gastos_fixos['Valor'].sum()\n",
    "gastos_investimentos = receita_total - gastos_qualidade_vida - gastos_gastos_fixos\n",
    "meta_qualidade_vida = 0.4\n",
    "meta_gastos_fixos = 0.4\n",
    "meta_investimento = 0.2"
   ]
  },
  {
   "cell_type": "code",
   "execution_count": 72,
   "metadata": {},
   "outputs": [],
   "source": [
    "# Criando o DataFrame 'relatorio'\n",
    "relatorio = pd.DataFrame({\n",
    "    'Descrição': ['Investimentos', 'Qualidade de Vida', 'Gastos Fixos'],\n",
    "    'Acumulado': [gastos_investimentos, gastos_qualidade_vida, gastos_gastos_fixos],\n",
    "    'Meta': [meta_investimento * receita_total, meta_qualidade_vida * receita_total, meta_gastos_fixos * receita_total]\n",
    "})"
   ]
  },
  {
   "cell_type": "code",
   "execution_count": 73,
   "metadata": {},
   "outputs": [
    {
     "data": {
      "text/html": [
       "<div>\n",
       "<style scoped>\n",
       "    .dataframe tbody tr th:only-of-type {\n",
       "        vertical-align: middle;\n",
       "    }\n",
       "\n",
       "    .dataframe tbody tr th {\n",
       "        vertical-align: top;\n",
       "    }\n",
       "\n",
       "    .dataframe thead th {\n",
       "        text-align: right;\n",
       "    }\n",
       "</style>\n",
       "<table border=\"1\" class=\"dataframe\">\n",
       "  <thead>\n",
       "    <tr style=\"text-align: right;\">\n",
       "      <th></th>\n",
       "      <th>Descrição</th>\n",
       "      <th>Acumulado</th>\n",
       "      <th>Meta</th>\n",
       "      <th>Diferença</th>\n",
       "      <th>%Diferença</th>\n",
       "    </tr>\n",
       "  </thead>\n",
       "  <tbody>\n",
       "    <tr>\n",
       "      <th>0</th>\n",
       "      <td>Investimentos</td>\n",
       "      <td>2204.73</td>\n",
       "      <td>1080.458</td>\n",
       "      <td>-1124.272</td>\n",
       "      <td>-104.06</td>\n",
       "    </tr>\n",
       "    <tr>\n",
       "      <th>1</th>\n",
       "      <td>Qualidade de Vida</td>\n",
       "      <td>1000.79</td>\n",
       "      <td>2160.916</td>\n",
       "      <td>1160.126</td>\n",
       "      <td>53.69</td>\n",
       "    </tr>\n",
       "    <tr>\n",
       "      <th>2</th>\n",
       "      <td>Gastos Fixos</td>\n",
       "      <td>2196.77</td>\n",
       "      <td>2160.916</td>\n",
       "      <td>-35.854</td>\n",
       "      <td>-1.66</td>\n",
       "    </tr>\n",
       "  </tbody>\n",
       "</table>\n",
       "</div>"
      ],
      "text/plain": [
       "           Descrição  Acumulado      Meta  Diferença  %Diferença\n",
       "0      Investimentos    2204.73  1080.458  -1124.272     -104.06\n",
       "1  Qualidade de Vida    1000.79  2160.916   1160.126       53.69\n",
       "2       Gastos Fixos    2196.77  2160.916    -35.854       -1.66"
      ]
     },
     "execution_count": 73,
     "metadata": {},
     "output_type": "execute_result"
    }
   ],
   "source": [
    "relatorio['Diferença'] = relatorio['Meta'] - relatorio['Acumulado']\n",
    "relatorio['%Diferença'] = round(100*relatorio['Diferença']/relatorio['Meta'],2)\n",
    "relatorio"
   ]
  },
  {
   "cell_type": "code",
   "execution_count": null,
   "metadata": {},
   "outputs": [],
   "source": []
  }
 ],
 "metadata": {
  "kernelspec": {
   "display_name": "Python 3",
   "language": "python",
   "name": "python3"
  },
  "language_info": {
   "codemirror_mode": {
    "name": "ipython",
    "version": 3
   },
   "file_extension": ".py",
   "mimetype": "text/x-python",
   "name": "python",
   "nbconvert_exporter": "python",
   "pygments_lexer": "ipython3",
   "version": "3.11.1"
  }
 },
 "nbformat": 4,
 "nbformat_minor": 2
}
