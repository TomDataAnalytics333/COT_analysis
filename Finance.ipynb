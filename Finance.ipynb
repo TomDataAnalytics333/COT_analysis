{
 "cells": [
  {
   "cell_type": "markdown",
   "metadata": {},
   "source": [
    "# pré-processamento"
   ]
  },
  {
   "cell_type": "code",
   "execution_count": 2,
   "metadata": {},
   "outputs": [],
   "source": [
    "import pandas as pd"
   ]
  },
  {
   "cell_type": "code",
   "execution_count": 3,
   "metadata": {},
   "outputs": [],
   "source": [
    "df = pd.read_csv(\"C:/Users/sonia/Downloads/Extrato conta - 012024.csv\", encoding='ISO-8859-1')\n"
   ]
  },
  {
   "cell_type": "code",
   "execution_count": 4,
   "metadata": {},
   "outputs": [],
   "source": [
    "import tabula"
   ]
  },
  {
   "cell_type": "code",
   "execution_count": 5,
   "metadata": {},
   "outputs": [
    {
     "name": "stderr",
     "output_type": "stream",
     "text": [
      "Error importing jpype dependencies. Fallback to subprocess.\n",
      "No module named 'jpype'\n"
     ]
    }
   ],
   "source": [
    "dfs = tabula.read_pdf('c:/Users/sonia/Downloads/DOC-20240211-WA0002_240211_165932.pdf',pages=2)"
   ]
  },
  {
   "cell_type": "code",
   "execution_count": 7,
   "metadata": {},
   "outputs": [],
   "source": [
    "# Supondo que dfs é o seu DataFrame\n",
    "# Substitua 'dfs' pelo nome real do seu DataFrame\n",
    "\n",
    "# Selecione as colunas que você quer unir\n",
    "colunas_1 = ['Unnamed: 0', '1TOMAZ S SOUZA CRUZCartão N. 6194', 'Unnamed: 2', 'Unnamed: 3', 'Unnamed: 4']\n",
    "colunas_2 = ['10/12', 'SUPERMERCADOS ANGELONI FLORIANOPOLIS', 'BR', 'R$', '57,04']\n",
    "\n",
    "# Selecione as linhas que você quer unir\n",
    "linhas_1 = dfs[colunas_1]\n",
    "linhas_2 = dfs[colunas_2]\n",
    "\n",
    "# Adicione um novo índice a partir da segunda linha\n",
    "linhas_2.index += 1\n",
    "\n",
    "# Renomeie as colunas para que tenham o mesmo nome\n",
    "linhas_2.columns = colunas_1\n",
    "\n",
    "# Use a função concat para unir as linhas\n",
    "resultado = pd.concat([linhas_1, linhas_2])\n",
    "\n",
    "# Exemplo de impressão do novo DataFrame\n",
    "#resultado"
   ]
  },
  {
   "cell_type": "code",
   "execution_count": 8,
   "metadata": {},
   "outputs": [],
   "source": [
    "resultado.rename(columns={'Unnamed: 0':'Data', '1TOMAZ S SOUZA CRUZCartão N. 6194':'Descrição', 'Unnamed: 2':'ID', 'Unnamed: 3':'Moeda', 'Unnamed: 4':'Valor'}, inplace=True)\n"
   ]
  },
  {
   "cell_type": "code",
   "execution_count": 13,
   "metadata": {},
   "outputs": [],
   "source": [
    "resultado['Valor'] = resultado['Valor'].str.replace('.', '').str.replace(',', '.').astype(float)\n"
   ]
  },
  {
   "cell_type": "code",
   "execution_count": 17,
   "metadata": {},
   "outputs": [],
   "source": [
    "df['Valor'] = df['Valor'].str.replace('.', '').str.replace(',', '.').astype(float)"
   ]
  },
  {
   "cell_type": "markdown",
   "metadata": {},
   "source": [
    "# Dataframes"
   ]
  },
  {
   "cell_type": "code",
   "execution_count": 25,
   "metadata": {},
   "outputs": [
    {
     "data": {
      "text/plain": [
       "7022.7"
      ]
     },
     "execution_count": 25,
     "metadata": {},
     "output_type": "execute_result"
    }
   ],
   "source": [
    "receitas = df[df['Tipo Lançamento']=='Entrada']"
   ]
  },
  {
   "cell_type": "code",
   "execution_count": 26,
   "metadata": {},
   "outputs": [
    {
     "data": {
      "text/plain": [
       "-5845.63"
      ]
     },
     "execution_count": 26,
     "metadata": {},
     "output_type": "execute_result"
    }
   ],
   "source": [
    "gastos = df[df['Tipo Lançamento']=='Saída']"
   ]
  },
  {
   "cell_type": "code",
   "execution_count": 29,
   "metadata": {},
   "outputs": [],
   "source": [
    "gastos_creditos = resultado[(resultado['Valor']>0)&(resultado['Data'].notnull())]"
   ]
  },
  {
   "cell_type": "code",
   "execution_count": 30,
   "metadata": {},
   "outputs": [],
   "source": [
    "receita_mensal = receitas['Valor'].sum()"
   ]
  },
  {
   "cell_type": "code",
   "execution_count": 55,
   "metadata": {},
   "outputs": [
    {
     "data": {
      "text/plain": [
       "-0.5219801500847253"
      ]
     },
     "execution_count": 55,
     "metadata": {},
     "output_type": "execute_result"
    }
   ],
   "source": [
    "# Crie uma máscara booleana usando str.contains\n",
    "mascara_pagamento = gastos['Lançamento'].str.contains('pagamento', case=False, na=False)\n",
    "mascara_pgto = gastos['Lançamento'].str.contains('pagto', case=False, na=False)\n",
    "\n",
    "\n",
    "# Aplique a máscara ao DataFrame original\n",
    "gastos_fixos = gastos[mascara_pagamento|mascara_pgto]['Valor'].sum()/receita_mensal\n",
    "gastos_fixos"
   ]
  },
  {
   "cell_type": "code",
   "execution_count": 57,
   "metadata": {},
   "outputs": [
    {
     "data": {
      "text/plain": [
       "-0.3104105258661199"
      ]
     },
     "execution_count": 57,
     "metadata": {},
     "output_type": "execute_result"
    }
   ],
   "source": [
    "qualidade_vida = gastos[~mascara_pagamento&~mascara_pgto]['Valor'].sum()/receita_mensal\n",
    "qualidade_vida"
   ]
  },
  {
   "cell_type": "code",
   "execution_count": 58,
   "metadata": {},
   "outputs": [
    {
     "data": {
      "text/plain": [
       "0.16760932404915485"
      ]
     },
     "execution_count": 58,
     "metadata": {},
     "output_type": "execute_result"
    }
   ],
   "source": [
    "investimentos = 1+qualidade_vida+gastos_fixos\n",
    "investimentos"
   ]
  },
  {
   "cell_type": "code",
   "execution_count": null,
   "metadata": {},
   "outputs": [],
   "source": []
  }
 ],
 "metadata": {
  "kernelspec": {
   "display_name": "Python 3",
   "language": "python",
   "name": "python3"
  },
  "language_info": {
   "codemirror_mode": {
    "name": "ipython",
    "version": 3
   },
   "file_extension": ".py",
   "mimetype": "text/x-python",
   "name": "python",
   "nbconvert_exporter": "python",
   "pygments_lexer": "ipython3",
   "version": "3.11.1"
  }
 },
 "nbformat": 4,
 "nbformat_minor": 2
}
